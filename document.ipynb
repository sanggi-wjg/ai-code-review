{
 "cells": [
  {
   "metadata": {},
   "cell_type": "markdown",
   "source": "",
   "id": "9aafb8dbf2398e5d"
  },
  {
   "cell_type": "code",
   "id": "initial_id",
   "metadata": {
    "collapsed": true,
    "ExecuteTime": {
     "end_time": "2025-02-21T05:13:32.480136Z",
     "start_time": "2025-02-21T05:13:29.990552Z"
    }
   },
   "source": [
    "import os\n",
    "\n",
    "from langchain_community.document_loaders import DirectoryLoader\n",
    "from langchain_core.documents import Document\n",
    "\n",
    "ignore_filenames = (\"Test\", \"test\")\n",
    "\n",
    "source_path = os.path.join(os.getcwd(), \"sources\", \"sanggi-wjg/spring-ai-geek\")\n",
    "\n",
    "loader = DirectoryLoader(path=source_path, glob=\"**/*.kt\")\n",
    "doc: Document\n",
    "documents = [doc for doc in loader.load() if not any(ignore_filename in doc.metadata[\"source\"] for ignore_filename in ignore_filenames)]"
   ],
   "execution_count": 24,
   "outputs": []
  },
  {
   "metadata": {
    "ExecuteTime": {
     "end_time": "2025-02-21T05:13:33.244745Z",
     "start_time": "2025-02-21T05:13:33.207451Z"
    }
   },
   "cell_type": "code",
   "source": [
    "from langchain_text_splitters import RecursiveCharacterTextSplitter, Language\n",
    "\n",
    "splitter = RecursiveCharacterTextSplitter.from_language(\n",
    "    language=Language.KOTLIN,\n",
    "    chunk_size=1024,\n",
    "    chunk_overlap=50,\n",
    ")\n",
    "# splitter = RecursiveCharacterTextSplitter(\n",
    "#     chunk_size=1024,\n",
    "#     chunk_overlap=50,\n",
    "#     length_function=len,\n",
    "#     separators=[\"\"],\n",
    "# )\n",
    "documents = splitter.split_documents(documents)"
   ],
   "id": "aa380475463d097",
   "execution_count": 25,
   "outputs": []
  },
  {
   "metadata": {
    "ExecuteTime": {
     "end_time": "2025-02-21T06:09:53.554084Z",
     "start_time": "2025-02-21T06:09:45.982722Z"
    }
   },
   "cell_type": "code",
   "source": [
    "from app.service import CodeChatService\n",
    "\n",
    "vector_store = CodeChatService.get_vector_store(\"temp\", drop_old=True)\n",
    "ids = vector_store.add_documents(documents)"
   ],
   "id": "94b4e0d49fa03918",
   "execution_count": 35,
   "outputs": []
  },
  {
   "metadata": {
    "ExecuteTime": {
     "end_time": "2025-02-21T06:19:01.630466Z",
     "start_time": "2025-02-21T06:19:01.506686Z"
    }
   },
   "cell_type": "code",
   "source": "vector_store.similarity_search_with_relevance_scores(\"Controller\", k=3, score_threshold=0.7)",
   "id": "ac0c6733663e6ad9",
   "execution_count": 41,
   "outputs": []
  }
 ],
 "metadata": {
  "kernelspec": {
   "display_name": "Python 3",
   "language": "python",
   "name": "python3"
  },
  "language_info": {
   "codemirror_mode": {
    "name": "ipython",
    "version": 2
   },
   "file_extension": ".py",
   "mimetype": "text/x-python",
   "name": "python",
   "nbconvert_exporter": "python",
   "pygments_lexer": "ipython2",
   "version": "2.7.6"
  }
 },
 "nbformat": 4,
 "nbformat_minor": 5
}
