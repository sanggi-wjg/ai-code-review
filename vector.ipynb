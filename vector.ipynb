{
 "cells": [
  {
   "metadata": {
    "ExecuteTime": {
     "end_time": "2025-02-21T04:39:57.004280Z",
     "start_time": "2025-02-21T04:39:55.280509Z"
    }
   },
   "cell_type": "code",
   "source": [
    "from app.service import CodeChatService\n",
    "\n",
    "vector = CodeChatService.get_vector_store(\"FitpetKorea/fitpetmall-backend-v4\")"
   ],
   "id": "initial_id",
   "execution_count": 1,
   "outputs": []
  },
  {
   "metadata": {
    "ExecuteTime": {
     "end_time": "2025-02-21T04:40:03.047525Z",
     "start_time": "2025-02-21T04:40:01.731335Z"
    }
   },
   "cell_type": "code",
   "source": [
    "# vector.embeddings.embed_query(\"\")\n",
    "\n",
    "finds = vector.similarity_search_with_relevance_scores(\"function about Instant\", k=10)\n",
    "finds"
   ],
   "id": "82d964295ad658e4",
   "execution_count": 2,
   "outputs": []
  }
 ],
 "metadata": {
  "kernelspec": {
   "display_name": "Python 3",
   "language": "python",
   "name": "python3"
  },
  "language_info": {
   "codemirror_mode": {
    "name": "ipython",
    "version": 2
   },
   "file_extension": ".py",
   "mimetype": "text/x-python",
   "name": "python",
   "nbconvert_exporter": "python",
   "pygments_lexer": "ipython2",
   "version": "2.7.6"
  }
 },
 "nbformat": 4,
 "nbformat_minor": 5
}
